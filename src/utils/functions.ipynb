{
 "cells": [
  {
   "cell_type": "code",
   "execution_count": 1,
   "metadata": {},
   "outputs": [],
   "source": [
    "import matplotlib.pyplot as plt\n",
    "import pandas as pd\n",
    "import numpy as np\n",
    "import seaborn as sns"
   ]
  },
  {
   "cell_type": "code",
   "execution_count": 169,
   "metadata": {},
   "outputs": [],
   "source": [
    "def variable_type(df, discrete_threshold = 9, continuous_threshold = 15, sort_ascending = None, sugg_type = None, index = None):\n",
    "    '''\n",
    "    Calculates cardinality and suggest a variable type to each column of a dataframe. It also suggests variables to use as index.\n",
    "\n",
    "    Args:\n",
    "        df (DataFrame): dataframe to analyze\n",
    "        discrete_threshold (int): minimum cardinality threshold to consider the variable as a numeric discrete type.\n",
    "        continuous_threshold (int): minimum cardinality threshold to consider the variable as a numeric continuous type.\n",
    "        sort_ascending (None | bool): sorts by % cardinality, useful if suggested index is not correct.\n",
    "        sugg_type (string | None): filters dataframe by specified suggested types.\n",
    "        index (None | bool): filters dataframe by possible index.\n",
    "    \n",
    "    Returns:\n",
    "        DataFrame\n",
    "    '''\n",
    "    # Dataframe creation\n",
    "    df_temp = pd.DataFrame([df.nunique(), df.nunique() / len(df) * 100, df.dtypes]).T\n",
    "    df_temp = df_temp.rename(columns = {0: 'cardinality', 1: '%_cardinality', 2: 'type'})\n",
    "    \n",
    "    # Suggested type based on calculated cardinality\n",
    "    df_temp['suggested_type'] = 'Categorical'\n",
    "    df_temp.loc[df_temp['cardinality'] == 1, '%_cardinality'] = 0.00\n",
    "    df_temp.loc[df_temp['cardinality'] == 2, 'suggested_type'] = 'Binary'\n",
    "    df_temp.loc[df_temp['%_cardinality'] >= discrete_threshold, 'suggested_type'] ='Numeric (discrete)'\n",
    "    df_temp.loc[df_temp['%_cardinality'] >= continuous_threshold, 'suggested_type'] = 'Numeric (continuous)'\n",
    "    \n",
    "    # Index suggestion\n",
    "    df_temp['possible_index'] = False\n",
    "    index_cond = (df_temp['%_cardinality'] == 100) & (df_temp.index.str.contains('id', case = False, regex = False))\n",
    "    df_temp.loc[index_cond, 'possible_index'] = True\n",
    "    \n",
    "    # Returns dataframe sorted by % cardinality, useful if suggested index is not correct\n",
    "    if type(sort_ascending) is bool:\n",
    "        df_temp.sort_values(by = '%_cardinality', ascending = sort_ascending, inplace = True)\n",
    "    \n",
    "    # Returns dataframe that only includes specified suggested types\n",
    "    if sugg_type:\n",
    "        df_temp = df_temp.loc[df_temp['suggested_type'].str.contains(sugg_type, case = False)]\n",
    "    \n",
    "    # Returns dataframe with possible index. Can also be set to exclude possible index suggestions\n",
    "    if type(index) is bool:\n",
    "        df_temp = df_temp.loc[df_temp['possible_index'] == index]\n",
    "    \n",
    "    return df_temp"
   ]
  },
  {
   "cell_type": "code",
   "execution_count": null,
   "metadata": {},
   "outputs": [],
   "source": [
    "def bar_donut_chart(df, variable):\n",
    "    colors = ['#6CB4EE', '#318CE7', '#6495ED', '#87CEFA'] \n",
    "\n",
    "    category_counts = df[variable].value_counts()\n",
    "\n",
    "    fig, axs = plt.subplots(1, 2, figsize = (14, 4)) \n",
    "\n",
    "    bars = axs[0].barh(category_counts.index, category_counts.values, color = colors)\n",
    "    axs[0].set_title(f'{variable} Distribution', fontsize = 16)\n",
    "    axs[0].set_xlabel('Count')\n",
    "    axs[0].set_ylabel(f'{variable} Types')\n",
    "\n",
    "    for bar, value in zip(bars, category_counts.values):\n",
    "        width = bar.get_width()\n",
    "        axs[0].text(width, bar.get_y() + bar.get_height() / 2, '%d' % int(width),\n",
    "                    ha = 'left', va = 'center', color = 'black', fontsize = 10)\n",
    "\n",
    "    status_counts = df[variable].value_counts()\n",
    "\n",
    "    wedges, texts, autotexts = axs[1].pie(status_counts, labels=status_counts.index, colors=colors, autopct='%1.1f%%', startangle=140)\n",
    "\n",
    "    centre_circle = plt.Circle((0,0),0.70,fc = 'white')\n",
    "    plt.gca().add_artist(centre_circle)\n",
    "    axs[1].axis('equal')\n",
    "\n",
    "    plt.tight_layout()\n",
    "    plt.show()"
   ]
  }
 ],
 "metadata": {
  "kernelspec": {
   "display_name": "eda_env",
   "language": "python",
   "name": "python3"
  },
  "language_info": {
   "codemirror_mode": {
    "name": "ipython",
    "version": 3
   },
   "file_extension": ".py",
   "mimetype": "text/x-python",
   "name": "python",
   "nbconvert_exporter": "python",
   "pygments_lexer": "ipython3",
   "version": "3.12.4"
  }
 },
 "nbformat": 4,
 "nbformat_minor": 2
}
