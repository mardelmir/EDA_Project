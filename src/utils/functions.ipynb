{
 "cells": [
  {
   "cell_type": "code",
   "execution_count": 1,
   "metadata": {},
   "outputs": [],
   "source": [
    "import matplotlib.pyplot as plt\n",
    "import pandas as pd"
   ]
  },
  {
   "cell_type": "code",
   "execution_count": null,
   "metadata": {},
   "outputs": [],
   "source": [
    "def bar_donut_chart(df, variable):\n",
    "    colors = ['#6CB4EE', '#318CE7', '#6495ED', '#87CEFA'] \n",
    "\n",
    "    category_counts = df[variable].value_counts()\n",
    "\n",
    "    fig, axs = plt.subplots(1, 2, figsize = (14, 4)) \n",
    "\n",
    "    bars = axs[0].barh(category_counts.index, category_counts.values, color = colors)\n",
    "    axs[0].set_title(f'{variable} Distribution', fontsize = 16)\n",
    "    axs[0].set_xlabel('Count')\n",
    "    axs[0].set_ylabel(f'{variable} Types')\n",
    "\n",
    "    for bar, value in zip(bars, category_counts.values):\n",
    "        width = bar.get_width()\n",
    "        axs[0].text(width, bar.get_y() + bar.get_height() / 2, '%d' % int(width),\n",
    "                    ha = 'left', va = 'center', color = 'black', fontsize = 10)\n",
    "\n",
    "    status_counts = df[variable].value_counts()\n",
    "\n",
    "    wedges, texts, autotexts = axs[1].pie(status_counts, labels=status_counts.index, colors=colors, autopct='%1.1f%%', startangle=140)\n",
    "\n",
    "    centre_circle = plt.Circle((0,0),0.70,fc = 'white')\n",
    "    plt.gca().add_artist(centre_circle)\n",
    "    axs[1].axis('equal')\n",
    "\n",
    "    plt.tight_layout()\n",
    "    plt.show()"
   ]
  }
 ],
 "metadata": {
  "kernelspec": {
   "display_name": "eda_env",
   "language": "python",
   "name": "python3"
  },
  "language_info": {
   "codemirror_mode": {
    "name": "ipython",
    "version": 3
   },
   "file_extension": ".py",
   "mimetype": "text/x-python",
   "name": "python",
   "nbconvert_exporter": "python",
   "pygments_lexer": "ipython3",
   "version": "3.12.4"
  }
 },
 "nbformat": 4,
 "nbformat_minor": 2
}
