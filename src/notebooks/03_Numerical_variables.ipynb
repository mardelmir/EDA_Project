{
 "cells": [
  {
   "cell_type": "markdown",
   "metadata": {},
   "source": [
    "# Notebook 2\n",
    "\n",
    "Categorical data analysis\n",
    "\n",
    "\n",
    "#### Table of contents:\n",
    "* "
   ]
  },
  {
   "cell_type": "markdown",
   "metadata": {},
   "source": [
    "## Imports"
   ]
  },
  {
   "cell_type": "code",
   "execution_count": null,
   "metadata": {},
   "outputs": [],
   "source": [
    "import os\n",
    "import re\n",
    "import sys\n",
    "\n",
    "import numpy as np\n",
    "import matplotlib.pyplot as plt\n",
    "# import plotly\n",
    "import pandas as pd\n",
    "import seaborn as sns\n",
    "\n",
    "pd.options.display.max_columns = None"
   ]
  },
  {
   "cell_type": "code",
   "execution_count": null,
   "metadata": {},
   "outputs": [],
   "source": [
    "# Gets src path \n",
    "src_path = os.path.dirname(os.getcwd())\n",
    "\n",
    "# Adds src_path if it doesn't exist in sys.path (to access utils)\n",
    "if os.path.exists(src_path) and src_path not in sys.path:\n",
    "    sys.path.append(src_path)\n",
    "    \n",
    "import utils.data_tools as dt"
   ]
  },
  {
   "cell_type": "code",
   "execution_count": null,
   "metadata": {},
   "outputs": [],
   "source": [
    "# Load datasets\n",
    "\n",
    "df_main = pd.read_csv('../data/processed/main_data.csv')\n",
    "df_bm = pd.read_csv('../data/processed/biomarker_data.csv')\n",
    "df_adni = pd.read_csv('../data/processed/adni_data.csv')\n",
    "\n",
    "# Correct 'None' interpretation in df_main['Education_lv']\n",
    "\n",
    "df_main['Education_lv'] = df_main['Education_lv'].fillna('None')"
   ]
  },
  {
   "cell_type": "markdown",
   "metadata": {},
   "source": [
    "## Numerical Variables"
   ]
  },
  {
   "cell_type": "code",
   "execution_count": null,
   "metadata": {},
   "outputs": [],
   "source": [
    "numerical_columns = ['Age', 'BMI', 'Alcohol_Consumption', 'Physical_Activity', 'Systolic_BP', 'Diastolic_BP', 'Cholesterol_Total', 'Cholesterol_LDL', 'Cholesterol_HDL', 'Cholesterol_Triglycerides', 'MMSE']"
   ]
  }
 ],
 "metadata": {
  "language_info": {
   "name": "python"
  }
 },
 "nbformat": 4,
 "nbformat_minor": 2
}
