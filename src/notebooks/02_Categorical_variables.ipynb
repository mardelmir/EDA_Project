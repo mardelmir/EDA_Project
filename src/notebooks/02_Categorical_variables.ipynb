{
 "cells": [
  {
   "cell_type": "markdown",
   "metadata": {},
   "source": [
    "# Notebook 2\n",
    "\n",
    "Categorical data analysis\n",
    "\n",
    "\n",
    "#### Table of contents:\n",
    "* "
   ]
  },
  {
   "cell_type": "markdown",
   "metadata": {},
   "source": [
    "## Imports"
   ]
  },
  {
   "cell_type": "code",
   "execution_count": 2,
   "metadata": {},
   "outputs": [],
   "source": [
    "import os\n",
    "import re\n",
    "import sys\n",
    "\n",
    "import numpy as np\n",
    "import matplotlib.pyplot as plt\n",
    "# import plotly\n",
    "import pandas as pd\n",
    "import seaborn as sns\n",
    "\n",
    "pd.options.display.max_columns = None"
   ]
  },
  {
   "cell_type": "code",
   "execution_count": 3,
   "metadata": {},
   "outputs": [],
   "source": [
    "# Gets src path \n",
    "src_path = os.path.dirname(os.getcwd())\n",
    "\n",
    "# Adds src_path if it doesn't exist in sys.path (to access utils)\n",
    "if os.path.exists(src_path) and src_path not in sys.path:\n",
    "    sys.path.append(src_path)\n",
    "    \n",
    "import utils.functions as fn"
   ]
  },
  {
   "cell_type": "code",
   "execution_count": 4,
   "metadata": {},
   "outputs": [],
   "source": [
    "# Load datasets\n",
    "\n",
    "df_main = pd.read_csv('../data/processed/main_data.csv')\n",
    "df_bm = pd.read_csv('../data/processed/biomarker_data.csv')\n",
    "df_adni = pd.read_csv('../data/processed/adni_data.csv')"
   ]
  },
  {
   "cell_type": "markdown",
   "metadata": {},
   "source": [
    "## General overview"
   ]
  },
  {
   "cell_type": "code",
   "execution_count": 5,
   "metadata": {},
   "outputs": [
    {
     "name": "stdout",
     "output_type": "stream",
     "text": [
      "<class 'pandas.core.frame.DataFrame'>\n",
      "RangeIndex: 2149 entries, 0 to 2148\n",
      "Data columns (total 34 columns):\n",
      " #   Column                       Non-Null Count  Dtype  \n",
      "---  ------                       --------------  -----  \n",
      " 0   Patient_ID                   2149 non-null   object \n",
      " 1   Age                          2149 non-null   int64  \n",
      " 2   Gender                       2149 non-null   int64  \n",
      " 3   Ethnicity                    2149 non-null   object \n",
      " 4   Education_lv                 1703 non-null   object \n",
      " 5   BMI                          2149 non-null   float64\n",
      " 6   Smoking                      2149 non-null   int64  \n",
      " 7   Alcohol_Consumption          2149 non-null   float64\n",
      " 8   Physical_Activity            2149 non-null   float64\n",
      " 9   Diet_Quality                 2149 non-null   float64\n",
      " 10  Sleep_Quality                2149 non-null   float64\n",
      " 11  Family_History_Alzheimers    2149 non-null   int64  \n",
      " 12  CVD                          2149 non-null   int64  \n",
      " 13  Diabetes                     2149 non-null   int64  \n",
      " 14  Depression                   2149 non-null   int64  \n",
      " 15  Head_Injury                  2149 non-null   int64  \n",
      " 16  Hypertension                 2149 non-null   int64  \n",
      " 17  Systolic_BP                  2149 non-null   int64  \n",
      " 18  Diastolic_BP                 2149 non-null   int64  \n",
      " 19  Cholesterol_Total            2149 non-null   float64\n",
      " 20  Cholesterol_LDL              2149 non-null   float64\n",
      " 21  Cholesterol_HDL              2149 non-null   float64\n",
      " 22  Cholesterol_Triglycerides    2149 non-null   float64\n",
      " 23  MMSE                         2149 non-null   float64\n",
      " 24  Functional_Assessment        2149 non-null   float64\n",
      " 25  Memory_Complaints            2149 non-null   int64  \n",
      " 26  Behavioral_Problems          2149 non-null   int64  \n",
      " 27  ADL                          2149 non-null   float64\n",
      " 28  Confusion                    2149 non-null   int64  \n",
      " 29  Disorientation               2149 non-null   int64  \n",
      " 30  Personality_Changes          2149 non-null   int64  \n",
      " 31  Difficulty_Completing_Tasks  2149 non-null   int64  \n",
      " 32  Forgetfulness                2149 non-null   int64  \n",
      " 33  DX                           2149 non-null   int64  \n",
      "dtypes: float64(12), int64(19), object(3)\n",
      "memory usage: 571.0+ KB\n"
     ]
    }
   ],
   "source": [
    "df_main.info()"
   ]
  },
  {
   "cell_type": "code",
   "execution_count": 6,
   "metadata": {},
   "outputs": [],
   "source": [
    "# Correct 'None' interpretation in df_main['Education_lv']\n",
    "\n",
    "df_main['Education_lv'] = df_main['Education_lv'].fillna('None')"
   ]
  },
  {
   "cell_type": "code",
   "execution_count": 28,
   "metadata": {},
   "outputs": [
    {
     "name": "stdout",
     "output_type": "stream",
     "text": [
      "Main + biomarkers: ['Patient_ID', 'Age', 'Gender', 'BMI', 'Smoking', 'CVD', 'Diabetes', 'Hypertension', 'MMSE', 'DX']\n",
      "Main + adni: ['Patient_ID', 'Age', 'Gender', 'Ethnicity', 'Smoking', 'CVD', 'Diabetes', 'Depression', 'Hypertension', 'MMSE', 'DX']\n",
      "Biomarkers + adni: ['Patient_ID', 'Gender', 'Age', 'Education_yrs', 'Smoking', 'Hypertension', 'CVD', 'Diabetes', 'MMSE', 'MOCA', 'DX', 'Plasma_ptau181']\n",
      "All: ['Patient_ID', 'Age', 'Gender', 'Smoking', 'CVD', 'Diabetes', 'Hypertension', 'MMSE', 'DX']\n"
     ]
    }
   ],
   "source": [
    "# Check common columns in between datasets to see which can be compared in between them\n",
    "\n",
    "main_bm = df_main.columns.intersection(df_bm.columns).to_list()\n",
    "main_adni = df_main.columns.intersection(df_adni.columns).to_list()\n",
    "bm_adni = df_bm.columns.intersection(df_adni.columns).to_list()\n",
    "all_inters = df_main.columns.intersection(df_bm.columns.intersection(df_adni.columns)).to_list()\n",
    "\n",
    "print('Main + biomarkers:', main_bm)\n",
    "print('Main + adni:', main_adni)\n",
    "print('Biomarkers + adni:', bm_adni)\n",
    "print('All:', all_inters)"
   ]
  },
  {
   "cell_type": "code",
   "execution_count": 18,
   "metadata": {},
   "outputs": [],
   "source": [
    "# df_combined = pd.concat([df_main, df_bm, df_adni], axis = 0, ignore_index = True)"
   ]
  },
  {
   "cell_type": "code",
   "execution_count": 8,
   "metadata": {},
   "outputs": [],
   "source": [
    "col_gen = ['Patient_ID', 'Age', 'Gender', 'Ethnicity', 'Education_lv', 'Education_yrs']\n",
    "col_lifestyle = ['BMI', 'Smoking', 'Drinking', 'Alcohol_Consumption', 'Physical_Activity', 'Diet_Quality', 'Sleep_Quality']\n",
    "col_clinical_history = ['APOE4', 'Family_History_Alzheimers', 'CVD', 'Hypertension', 'Diabetes', 'Depression', 'Stroke', 'Head_Injury']\n",
    "col_clinical_measurements = ['Systolic_BP', 'Diastolic_BP', 'Cholesterol_Total', 'Cholesterol_LDL', 'Cholesterol_HDL', 'Cholesterol_Triglycerides', 'Plasma_GFAP', 'Plasma_NfL', 'Plasma_ptau181']\n",
    "col_as = ['MMSE', 'MOCA', 'Functional_Assessment', 'ADL']"
   ]
  },
  {
   "cell_type": "markdown",
   "metadata": {},
   "source": [
    "## Categorical variables"
   ]
  },
  {
   "cell_type": "code",
   "execution_count": null,
   "metadata": {},
   "outputs": [],
   "source": [
    "custom_labels = {\n",
    "    'Gender': ['Male', 'Female'],\n",
    "    'Ethnicity': ['Caucasian', 'African American', 'Asian', 'Other'],\n",
    "    'EducationLevel': ['None', 'High School', 'Bachelor\\'s', 'Higher'],\n",
    "    'Smoking': ['No', 'Yes'],\n",
    "    'FamilyHistoryAlzheimers': ['No', 'Yes'],\n",
    "    'CardiovascularDisease': ['No', 'Yes'],\n",
    "    'Diabetes': ['No', 'Yes'],\n",
    "    'Depression': ['No', 'Yes'],\n",
    "    'HeadInjury': ['No', 'Yes'],\n",
    "    'Hypertension': ['No', 'Yes'],\n",
    "    'MemoryComplaints': ['No', 'Yes'],\n",
    "    'BehavioralProblems': ['No', 'Yes'],\n",
    "    'Confusion': ['No', 'Yes'],\n",
    "    'Disorientation': ['No', 'Yes'],\n",
    "    'PersonalityChanges': ['No', 'Yes'],\n",
    "    'DifficultyCompletingTasks': ['No', 'Yes'],\n",
    "    'Forgetfulness': ['No', 'Yes']\n",
    "}"
   ]
  }
 ],
 "metadata": {
  "kernelspec": {
   "display_name": "eda_env",
   "language": "python",
   "name": "python3"
  },
  "language_info": {
   "codemirror_mode": {
    "name": "ipython",
    "version": 3
   },
   "file_extension": ".py",
   "mimetype": "text/x-python",
   "name": "python",
   "nbconvert_exporter": "python",
   "pygments_lexer": "ipython3",
   "version": "3.12.4"
  }
 },
 "nbformat": 4,
 "nbformat_minor": 2
}
