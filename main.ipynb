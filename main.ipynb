{
 "cells": [
  {
   "cell_type": "markdown",
   "metadata": {},
   "source": [
    "# Main Notebook"
   ]
  },
  {
   "cell_type": "markdown",
   "metadata": {},
   "source": [
    "#### Table of contents\n",
    "* [General Overview](#general-overview)\n",
    "* [Univariate Analysis](#univariate-analysis)\n",
    "    * [Categorical variables](#categorical-variables) \n",
    "    * [Numerical variables](#numerical-variables) \n",
    "* [Bivariate Analysis](#bivariate-analysis)"
   ]
  },
  {
   "cell_type": "code",
   "execution_count": 1,
   "metadata": {},
   "outputs": [],
   "source": [
    "import os\n",
    "import re\n",
    "import sys\n",
    "\n",
    "import matplotlib.pyplot as plt\n",
    "import numpy as np\n",
    "import pandas as pd\n",
    "import seaborn as sns"
   ]
  },
  {
   "cell_type": "code",
   "execution_count": 2,
   "metadata": {},
   "outputs": [],
   "source": [
    "# Gets src path \n",
    "src_path = os.path.dirname(os.getcwd())\n",
    "\n",
    "# Adds src_path if it doesn't exist in sys.path (to access utils)\n",
    "if os.path.exists(src_path) and src_path not in sys.path:\n",
    "    sys.path.append(src_path)\n",
    "    \n",
    "import src.utils.data_tools as dt\n",
    "import src.utils.viz_tools as vt"
   ]
  },
  {
   "cell_type": "code",
   "execution_count": 3,
   "metadata": {},
   "outputs": [],
   "source": [
    "# Load datasets\n",
    "\n",
    "df_main = pd.read_csv('./src/data/processed/main_data.csv')\n",
    "df_bm = pd.read_csv('./src/data/processed/biomarker_data.csv')\n",
    "df_adni = pd.read_csv('./src/data/processed/adni_data.csv')"
   ]
  },
  {
   "cell_type": "markdown",
   "metadata": {},
   "source": [
    "## General overview\n",
    "\n",
    "[Back to top](#table-of-contents)"
   ]
  },
  {
   "cell_type": "code",
   "execution_count": 4,
   "metadata": {},
   "outputs": [
    {
     "name": "stdout",
     "output_type": "stream",
     "text": [
      "<class 'pandas.core.frame.DataFrame'>\n",
      "RangeIndex: 2149 entries, 0 to 2148\n",
      "Data columns (total 34 columns):\n",
      " #   Column                       Non-Null Count  Dtype  \n",
      "---  ------                       --------------  -----  \n",
      " 0   Patient_ID                   2149 non-null   object \n",
      " 1   Age                          2149 non-null   int64  \n",
      " 2   Gender                       2149 non-null   int64  \n",
      " 3   Ethnicity                    2149 non-null   object \n",
      " 4   Education_lv                 2149 non-null   int64  \n",
      " 5   BMI                          2149 non-null   float64\n",
      " 6   Smoking                      2149 non-null   int64  \n",
      " 7   Alcohol_Consumption          2149 non-null   float64\n",
      " 8   Physical_Activity            2149 non-null   float64\n",
      " 9   Diet_Quality                 2149 non-null   float64\n",
      " 10  Sleep_Quality                2149 non-null   float64\n",
      " 11  Family_History_Alzheimers    2149 non-null   int64  \n",
      " 12  CVD                          2149 non-null   int64  \n",
      " 13  Diabetes                     2149 non-null   int64  \n",
      " 14  Depression                   2149 non-null   int64  \n",
      " 15  Head_Injury                  2149 non-null   int64  \n",
      " 16  Hypertension                 2149 non-null   int64  \n",
      " 17  Systolic_BP                  2149 non-null   int64  \n",
      " 18  Diastolic_BP                 2149 non-null   int64  \n",
      " 19  Cholesterol_Total            2149 non-null   float64\n",
      " 20  Cholesterol_LDL              2149 non-null   float64\n",
      " 21  Cholesterol_HDL              2149 non-null   float64\n",
      " 22  Cholesterol_Triglycerides    2149 non-null   float64\n",
      " 23  MMSE                         2149 non-null   float64\n",
      " 24  Functional_Assessment        2149 non-null   float64\n",
      " 25  Memory_Complaints            2149 non-null   int64  \n",
      " 26  Behavioral_Problems          2149 non-null   int64  \n",
      " 27  ADL                          2149 non-null   float64\n",
      " 28  Confusion                    2149 non-null   int64  \n",
      " 29  Disorientation               2149 non-null   int64  \n",
      " 30  Personality_Changes          2149 non-null   int64  \n",
      " 31  Difficulty_Completing_Tasks  2149 non-null   int64  \n",
      " 32  Forgetfulness                2149 non-null   int64  \n",
      " 33  DX                           2149 non-null   int64  \n",
      "dtypes: float64(12), int64(20), object(2)\n",
      "memory usage: 571.0+ KB\n"
     ]
    }
   ],
   "source": [
    "df_main.info()"
   ]
  },
  {
   "cell_type": "code",
   "execution_count": 5,
   "metadata": {},
   "outputs": [
    {
     "name": "stdout",
     "output_type": "stream",
     "text": [
      "<class 'pandas.core.frame.DataFrame'>\n",
      "RangeIndex: 113 entries, 0 to 112\n",
      "Data columns (total 16 columns):\n",
      " #   Column          Non-Null Count  Dtype  \n",
      "---  ------          --------------  -----  \n",
      " 0   Patient_ID      113 non-null    object \n",
      " 1   Gender          113 non-null    int64  \n",
      " 2   Age             113 non-null    int64  \n",
      " 3   BMI             113 non-null    float64\n",
      " 4   Education_yrs   113 non-null    int64  \n",
      " 5   Smoking         113 non-null    int64  \n",
      " 6   Drinking        113 non-null    int64  \n",
      " 7   Hypertension    113 non-null    int64  \n",
      " 8   CVD             113 non-null    int64  \n",
      " 9   Diabetes        113 non-null    int64  \n",
      " 10  MMSE            113 non-null    int64  \n",
      " 11  MOCA            113 non-null    int64  \n",
      " 12  DX              113 non-null    object \n",
      " 13  Plasma_GFAP     113 non-null    float64\n",
      " 14  Plasma_NfL      113 non-null    float64\n",
      " 15  Plasma_ptau181  113 non-null    float64\n",
      "dtypes: float64(4), int64(10), object(2)\n",
      "memory usage: 14.3+ KB\n"
     ]
    }
   ],
   "source": [
    "df_bm.info()"
   ]
  },
  {
   "cell_type": "code",
   "execution_count": 6,
   "metadata": {},
   "outputs": [
    {
     "name": "stdout",
     "output_type": "stream",
     "text": [
      "<class 'pandas.core.frame.DataFrame'>\n",
      "RangeIndex: 767 entries, 0 to 766\n",
      "Data columns (total 17 columns):\n",
      " #   Column          Non-Null Count  Dtype  \n",
      "---  ------          --------------  -----  \n",
      " 0   Patient_ID      767 non-null    object \n",
      " 1   Age             767 non-null    float64\n",
      " 2   Gender          767 non-null    int64  \n",
      " 3   Ethnicity       767 non-null    object \n",
      " 4   Education_yrs   767 non-null    int64  \n",
      " 5   Smoking         645 non-null    float64\n",
      " 6   CVD             645 non-null    float64\n",
      " 7   Diabetes        645 non-null    float64\n",
      " 8   Depression      645 non-null    float64\n",
      " 9   Hypertension    645 non-null    float64\n",
      " 10  Stroke          645 non-null    float64\n",
      " 11  MMSE            767 non-null    int64  \n",
      " 12  MOCA            757 non-null    float64\n",
      " 13  APOE4           767 non-null    int64  \n",
      " 14  DX              767 non-null    object \n",
      " 15  Group           767 non-null    object \n",
      " 16  Plasma_ptau181  767 non-null    float64\n",
      "dtypes: float64(9), int64(4), object(4)\n",
      "memory usage: 102.0+ KB\n"
     ]
    }
   ],
   "source": [
    "df_adni.info()"
   ]
  },
  {
   "cell_type": "markdown",
   "metadata": {},
   "source": [
    "## Univariate Analysis\n",
    "\n",
    "[Back to top](#table-of-contents)"
   ]
  },
  {
   "cell_type": "markdown",
   "metadata": {},
   "source": [
    "### Categorical variables"
   ]
  },
  {
   "cell_type": "code",
   "execution_count": null,
   "metadata": {},
   "outputs": [],
   "source": []
  },
  {
   "cell_type": "markdown",
   "metadata": {},
   "source": [
    "### Numerical variables"
   ]
  },
  {
   "cell_type": "code",
   "execution_count": null,
   "metadata": {},
   "outputs": [],
   "source": []
  },
  {
   "cell_type": "markdown",
   "metadata": {},
   "source": [
    "## Bivariate Analysis\n",
    "\n",
    "[Back to top](#table-of-contents)"
   ]
  },
  {
   "cell_type": "markdown",
   "metadata": {},
   "source": []
  }
 ],
 "metadata": {
  "kernelspec": {
   "display_name": "Python 3",
   "language": "python",
   "name": "python3"
  },
  "language_info": {
   "codemirror_mode": {
    "name": "ipython",
    "version": 3
   },
   "file_extension": ".py",
   "mimetype": "text/x-python",
   "name": "python",
   "nbconvert_exporter": "python",
   "pygments_lexer": "ipython3",
   "version": "3.12.4"
  }
 },
 "nbformat": 4,
 "nbformat_minor": 2
}
